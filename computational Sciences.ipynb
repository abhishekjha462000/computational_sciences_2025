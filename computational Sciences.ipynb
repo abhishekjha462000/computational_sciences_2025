{
 "cells": [
  {
   "cell_type": "code",
   "execution_count": 1,
   "id": "18c05205-a2ed-4578-87dc-68dfd2485633",
   "metadata": {},
   "outputs": [],
   "source": [
    "import numpy as np\n",
    "import pandas as pd"
   ]
  },
  {
   "cell_type": "code",
   "execution_count": 5,
   "id": "d03254d1-8ecd-45e5-9aa6-94150daa5ec8",
   "metadata": {},
   "outputs": [],
   "source": [
    "import matplotlib.pyplot as plt"
   ]
  },
  {
   "cell_type": "code",
   "execution_count": 6,
   "id": "4d91be64-ab25-4294-8ae5-27eadeda06a2",
   "metadata": {},
   "outputs": [],
   "source": [
    "%matplotlib inline"
   ]
  },
  {
   "cell_type": "markdown",
   "id": "cf5af99c-eca7-456a-b305-53a2098625e4",
   "metadata": {},
   "source": [
    "# Rosenbrock Function\n",
    "\n",
    "$m(u) = 10 \\big(y - (x)^2\\big)^2 + (x - 1)^2$\n"
   ]
  },
  {
   "cell_type": "code",
   "execution_count": 39,
   "id": "1de143ab-f8b5-4b84-bdcd-d47e1fffc970",
   "metadata": {},
   "outputs": [],
   "source": [
    "def rosenbrock(x, y):\n",
    "    return 10 * (y - (x ** 2)) ** 2 + (x - 1) ** 2"
   ]
  },
  {
   "cell_type": "code",
   "execution_count": 40,
   "id": "83a8f5e5-3e29-4a91-a062-1c1fd1a514d2",
   "metadata": {},
   "outputs": [
    {
     "data": {
      "text/plain": [
       "(-40*x*(-x**2 + y) + 2*x - 2, -20*x**2 + 20*y)"
      ]
     },
     "execution_count": 40,
     "metadata": {},
     "output_type": "execute_result"
    }
   ],
   "source": [
    "# for calculating the derivative of the rosenbrock function\n",
    "import sympy as sp\n",
    "\n",
    "# define symbols\n",
    "x, y = sp.symbols('x y')\n",
    "\n",
    "# define the function\n",
    "m = 10 * (y - x**2)**2 + (x - 1)**2\n",
    "\n",
    "# compute partial derivatives\n",
    "dm_x = sp.diff(m, x)\n",
    "dm_y = sp.diff(m, y)\n",
    "\n",
    "# display results nicely\n",
    "dm_x, dm_y\n"
   ]
  },
  {
   "cell_type": "code",
   "execution_count": 41,
   "id": "2b159c97-4dc0-4d70-b440-88d20d114c3d",
   "metadata": {},
   "outputs": [],
   "source": [
    "def gradient_rosenbrock(x, y):\n",
    "    return np.array([-40*x*(-x**2 + y) + 2*x - 2,-20*x**2 + 20*y])"
   ]
  },
  {
   "cell_type": "code",
   "execution_count": 32,
   "id": "9501ff60-a5fa-4acb-ab2a-8238da774afa",
   "metadata": {},
   "outputs": [
    {
     "data": {
      "text/plain": [
       "((np.float64(1.0), np.float64(2.0)),\n",
       " (np.float64(1.1111111111111112), np.float64(2.111111111111111)),\n",
       " (np.float64(1.2222222222222223), np.float64(2.2222222222222223)),\n",
       " (np.float64(1.3333333333333333), np.float64(2.3333333333333335)),\n",
       " (np.float64(1.4444444444444444), np.float64(2.4444444444444446)),\n",
       " (np.float64(1.5555555555555556), np.float64(2.5555555555555554)),\n",
       " (np.float64(1.6666666666666665), np.float64(2.6666666666666665)),\n",
       " (np.float64(1.7777777777777777), np.float64(2.7777777777777777)),\n",
       " (np.float64(1.8888888888888888), np.float64(2.888888888888889)),\n",
       " (np.float64(2.0), np.float64(3.0)))"
      ]
     },
     "execution_count": 32,
     "metadata": {},
     "output_type": "execute_result"
    }
   ],
   "source": [
    "x = np.linspace(1, 2, 10)\n",
    "y = np.linspace(2, 3, 10)\n",
    "\n",
    "points = tuple(zip(x, y))\n",
    "points"
   ]
  },
  {
   "cell_type": "code",
   "execution_count": 33,
   "id": "9e7c122f-d0ce-4ce9-945d-96745ab6b26b",
   "metadata": {},
   "outputs": [
    {
     "name": "stdout",
     "output_type": "stream",
     "text": [
      "(x, y) = ( 1.000,  2.000) | rosenbrock =  10.000000 | gradient = (-40.000000,  20.000000)\n",
      "(x, y) = ( 1.111,  2.111) | rosenbrock =   7.695626 | gradient = (-38.735254,  17.530864)\n",
      "(x, y) = ( 1.222,  2.222) | rosenbrock =   5.354976 | gradient = (-35.165981,  14.567901)\n",
      "(x, y) = ( 1.333,  2.333) | rosenbrock =   3.197531 | gradient = (-28.962963,  11.111111)\n",
      "(x, y) = ( 1.444,  2.444) | rosenbrock =   1.479348 | gradient = (-19.796982,   7.160494)\n",
      "(x, y) = ( 1.556,  2.556) | rosenbrock =   0.493065 | gradient = ( -7.338820,   2.716049)\n",
      "(x, y) = ( 1.667,  2.667) | rosenbrock =   0.567901 | gradient = (  8.740741,  -2.222222)\n",
      "(x, y) = ( 1.778,  2.778) | rosenbrock =   2.069654 | gradient = ( 28.770919,  -7.654321)\n",
      "(x, y) = ( 1.889,  2.889) | rosenbrock =   5.400701 | gradient = ( 53.080933, -13.580247)\n",
      "(x, y) = ( 2.000,  3.000) | rosenbrock =  11.000000 | gradient = ( 82.000000, -20.000000)\n"
     ]
    }
   ],
   "source": [
    "for x, y in points:\n",
    "    gradient = gradient_rosenbrock(x, y)\n",
    "    \n",
    "    print(f\"(x, y) = ({x:6.3f}, {y:6.3f}) | \"\n",
    "          f\"rosenbrock = {rosenbrock(x, y):10.6f} | \"\n",
    "          f\"gradient = ({gradient[0]:10.6f}, {gradient[1]:10.6f})\")\n"
   ]
  },
  {
   "cell_type": "code",
   "execution_count": 44,
   "id": "157b0074-b0d3-4760-9fee-7b4d27e69a3f",
   "metadata": {},
   "outputs": [
    {
     "name": "stdout",
     "output_type": "stream",
     "text": [
      "(x, y) = (-0.750,  0.700) | rosenbrock =   3.251562 | gradient = (  0.625000,   2.750000)\n"
     ]
    }
   ],
   "source": [
    "x, y = [-0.75, 0.7]\n",
    "gradient = gradient_rosenbrock(x, y)\n",
    "    \n",
    "print(f\"(x, y) = ({x:6.3f}, {y:6.3f}) | \"\n",
    "          f\"rosenbrock = {rosenbrock(x, y):10.6f} | \"\n",
    "          f\"gradient = ({gradient[0]:10.6f}, {gradient[1]:10.6f})\")"
   ]
  },
  {
   "cell_type": "markdown",
   "id": "95e04cb2-884b-442f-8cfa-6b2b9245aabc",
   "metadata": {},
   "source": [
    "# Model 4a"
   ]
  },
  {
   "cell_type": "code",
   "execution_count": 71,
   "id": "1a9a7660-5d28-4eaa-b1cc-926b686f0aa3",
   "metadata": {},
   "outputs": [],
   "source": [
    "def model_4a(*args):\n",
    "    # these args will contain all the values of u\n",
    "    if len(args) != 80:\n",
    "        return ValueError('model_4a has 80 parameter')\n",
    "\n",
    "    u = np.array(args)\n",
    "\n",
    "    # define g\n",
    "    g = np.zeros(80, dtype = 'int')\n",
    "    g[61] = 1\n",
    "    g[78] = 1\n",
    "\n",
    "    m = g @ u\n",
    "\n",
    "    for i in range(1, 11):\n",
    "        value = ((u[2 * i - 2] ** 2 + (1 + u[2 * i - 1])) ** (1 / 2) - 1) ** 2\n",
    "        m += value\n",
    "\n",
    "    for i in range(1, 10):\n",
    "        value = (((1 + u[2 * i]) ** 2) + ((1 + u[2 * i + 1]) ** 2) ** (1 / 2)  - (2 ** (1 / 2))) ** 2\n",
    "        m += value\n",
    "\n",
    "    for i in range(1, 10):\n",
    "        value = (((1 - u[2 * i - 2]) ** 2) + ((1 + u[2 * i - 1]) ** 2) ** (1 / 2)  - (2 ** (1 / 2))) ** 2\n",
    "        m += value"
   ]
  },
  {
   "cell_type": "code",
   "execution_count": 73,
   "id": "9c51ddac-1603-4448-b73d-30d85bd0e55d",
   "metadata": {},
   "outputs": [
    {
     "data": {
      "text/plain": [
       "np.float64(2.0)"
      ]
     },
     "execution_count": 73,
     "metadata": {},
     "output_type": "execute_result"
    }
   ],
   "source": [
    "model_4a(*np.ones(80))"
   ]
  },
  {
   "cell_type": "code",
   "execution_count": null,
   "id": "be798368-80ba-4e95-8ce4-719040cfb1e1",
   "metadata": {},
   "outputs": [],
   "source": []
  }
 ],
 "metadata": {
  "kernelspec": {
   "display_name": "Python 3 (ipykernel)",
   "language": "python",
   "name": "python3"
  },
  "language_info": {
   "codemirror_mode": {
    "name": "ipython",
    "version": 3
   },
   "file_extension": ".py",
   "mimetype": "text/x-python",
   "name": "python",
   "nbconvert_exporter": "python",
   "pygments_lexer": "ipython3",
   "version": "3.13.7"
  }
 },
 "nbformat": 4,
 "nbformat_minor": 5
}
